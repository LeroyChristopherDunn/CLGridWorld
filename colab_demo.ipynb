{
 "cells": [
  {
   "cell_type": "markdown",
   "metadata": {
    "id": "1vz1zCdXKZQ7",
    "colab_type": "text"
   },
   "source": [
    "# Setup"
   ]
  },
  {
   "cell_type": "markdown",
   "metadata": {
    "id": "yWzeEOPvKie-",
    "colab_type": "text"
   },
   "source": [
    "## Clone Repo"
   ]
  },
  {
   "cell_type": "code",
   "execution_count": 9,
   "metadata": {
    "id": "5OaQDqMEKSyb",
    "colab_type": "code",
    "outputId": "c6981611-b0d7-4912-b08c-eea2e5c739d2",
    "colab": {
     "base_uri": "https://localhost:8080/",
     "height": 139.0
    }
   },
   "outputs": [
    {
     "name": "stdout",
     "output_type": "stream",
     "text": [
      "Cloning into 'cl_grid_world'...\n",
      "remote: Enumerating objects: 42, done.\u001b[K\n",
      "remote: Counting objects:   2% (1/42)   \u001b[K\rremote: Counting objects:   4% (2/42)   \u001b[K\rremote: Counting objects:   7% (3/42)   \u001b[K\rremote: Counting objects:   9% (4/42)   \u001b[K\rremote: Counting objects:  11% (5/42)   \u001b[K\rremote: Counting objects:  14% (6/42)   \u001b[K\rremote: Counting objects:  16% (7/42)   \u001b[K\rremote: Counting objects:  19% (8/42)   \u001b[K\rremote: Counting objects:  21% (9/42)   \u001b[K\rremote: Counting objects:  23% (10/42)   \u001b[K\rremote: Counting objects:  26% (11/42)   \u001b[K\rremote: Counting objects:  28% (12/42)   \u001b[K\rremote: Counting objects:  30% (13/42)   \u001b[K\rremote: Counting objects:  33% (14/42)   \u001b[K\rremote: Counting objects:  35% (15/42)   \u001b[K\rremote: Counting objects:  38% (16/42)   \u001b[K\rremote: Counting objects:  40% (17/42)   \u001b[K\rremote: Counting objects:  42% (18/42)   \u001b[K\rremote: Counting objects:  45% (19/42)   \u001b[K\rremote: Counting objects:  47% (20/42)   \u001b[K\rremote: Counting objects:  50% (21/42)   \u001b[K\rremote: Counting objects:  52% (22/42)   \u001b[K\rremote: Counting objects:  54% (23/42)   \u001b[K\rremote: Counting objects:  57% (24/42)   \u001b[K\rremote: Counting objects:  59% (25/42)   \u001b[K\rremote: Counting objects:  61% (26/42)   \u001b[K\rremote: Counting objects:  64% (27/42)   \u001b[K\rremote: Counting objects:  66% (28/42)   \u001b[K\rremote: Counting objects:  69% (29/42)   \u001b[K\rremote: Counting objects:  71% (30/42)   \u001b[K\rremote: Counting objects:  73% (31/42)   \u001b[K\rremote: Counting objects:  76% (32/42)   \u001b[K\rremote: Counting objects:  78% (33/42)   \u001b[K\rremote: Counting objects:  80% (34/42)   \u001b[K\rremote: Counting objects:  83% (35/42)   \u001b[K\rremote: Counting objects:  85% (36/42)   \u001b[K\rremote: Counting objects:  88% (37/42)   \u001b[K\rremote: Counting objects:  90% (38/42)   \u001b[K\rremote: Counting objects:  92% (39/42)   \u001b[K\rremote: Counting objects:  95% (40/42)   \u001b[K\rremote: Counting objects:  97% (41/42)   \u001b[K\rremote: Counting objects: 100% (42/42)   \u001b[K\rremote: Counting objects: 100% (42/42), done.\u001b[K\n",
      "remote: Compressing objects:   3% (1/29)   \u001b[K\rremote: Compressing objects:   6% (2/29)   \u001b[K\rremote: Compressing objects:  10% (3/29)   \u001b[K\rremote: Compressing objects:  13% (4/29)   \u001b[K\rremote: Compressing objects:  17% (5/29)   \u001b[K\rremote: Compressing objects:  20% (6/29)   \u001b[K\rremote: Compressing objects:  24% (7/29)   \u001b[K\rremote: Compressing objects:  27% (8/29)   \u001b[K\rremote: Compressing objects:  31% (9/29)   \u001b[K\rremote: Compressing objects:  34% (10/29)   \u001b[K\rremote: Compressing objects:  37% (11/29)   \u001b[K\rremote: Compressing objects:  41% (12/29)   \u001b[K\rremote: Compressing objects:  44% (13/29)   \u001b[K\rremote: Compressing objects:  48% (14/29)   \u001b[K\rremote: Compressing objects:  51% (15/29)   \u001b[K\rremote: Compressing objects:  55% (16/29)   \u001b[K\rremote: Compressing objects:  58% (17/29)   \u001b[K\rremote: Compressing objects:  62% (18/29)   \u001b[K\rremote: Compressing objects:  65% (19/29)   \u001b[K\rremote: Compressing objects:  68% (20/29)   \u001b[K\rremote: Compressing objects:  72% (21/29)   \u001b[K\rremote: Compressing objects:  75% (22/29)   \u001b[K\rremote: Compressing objects:  79% (23/29)   \u001b[K\rremote: Compressing objects:  82% (24/29)   \u001b[K\rremote: Compressing objects:  86% (25/29)   \u001b[K\rremote: Compressing objects:  89% (26/29)   \u001b[K\rremote: Compressing objects:  93% (27/29)   \u001b[K\rremote: Compressing objects:  96% (28/29)   \u001b[K\rremote: Compressing objects: 100% (29/29)   \u001b[K\rremote: Compressing objects: 100% (29/29), done.\u001b[K\n",
      "Receiving objects:   0% (1/637)   \rReceiving objects:   1% (7/637)   \rReceiving objects:   2% (13/637)   \rReceiving objects:   3% (20/637)   \rReceiving objects:   4% (26/637)   \rReceiving objects:   5% (32/637)   \rReceiving objects:   6% (39/637)   \rReceiving objects:   7% (45/637)   \rReceiving objects:   8% (51/637)   \rReceiving objects:   9% (58/637)   \rReceiving objects:  10% (64/637)   \rReceiving objects:  11% (71/637)   \rReceiving objects:  12% (77/637)   \rReceiving objects:  13% (83/637)   \rReceiving objects:  14% (90/637)   \rReceiving objects:  15% (96/637)   \rReceiving objects:  16% (102/637)   \rReceiving objects:  17% (109/637)   \rReceiving objects:  18% (115/637)   \rReceiving objects:  19% (122/637)   \rReceiving objects:  20% (128/637)   \rReceiving objects:  21% (134/637)   \rReceiving objects:  22% (141/637)   \rReceiving objects:  23% (147/637)   \rReceiving objects:  24% (153/637)   \rReceiving objects:  25% (160/637)   \rReceiving objects:  26% (166/637)   \rReceiving objects:  27% (172/637)   \rReceiving objects:  28% (179/637)   \rReceiving objects:  29% (185/637)   \rReceiving objects:  30% (192/637)   \rReceiving objects:  31% (198/637)   \rReceiving objects:  32% (204/637)   \rReceiving objects:  33% (211/637)   \rReceiving objects:  34% (217/637)   \rReceiving objects:  35% (223/637)   \rReceiving objects:  36% (230/637)   \rReceiving objects:  37% (236/637)   \rReceiving objects:  38% (243/637)   \rReceiving objects:  39% (249/637)   \rReceiving objects:  40% (255/637)   \rReceiving objects:  41% (262/637)   \rReceiving objects:  42% (268/637)   \rReceiving objects:  43% (274/637)   \rReceiving objects:  44% (281/637)   \rReceiving objects:  45% (287/637)   \rReceiving objects:  46% (294/637)   \rReceiving objects:  47% (300/637)   \rremote: Total 637 (delta 16), reused 28 (delta 13), pack-reused 595\u001b[K\n",
      "Receiving objects:  48% (306/637)   \rReceiving objects:  49% (313/637)   \rReceiving objects:  50% (319/637)   \rReceiving objects:  51% (325/637)   \rReceiving objects:  52% (332/637)   \rReceiving objects:  53% (338/637)   \rReceiving objects:  54% (344/637)   \rReceiving objects:  55% (351/637)   \rReceiving objects:  56% (357/637)   \rReceiving objects:  57% (364/637)   \rReceiving objects:  58% (370/637)   \rReceiving objects:  59% (376/637)   \rReceiving objects:  60% (383/637)   \rReceiving objects:  61% (389/637)   \rReceiving objects:  62% (395/637)   \rReceiving objects:  63% (402/637)   \rReceiving objects:  64% (408/637)   \rReceiving objects:  65% (415/637)   \rReceiving objects:  66% (421/637)   \rReceiving objects:  67% (427/637)   \rReceiving objects:  68% (434/637)   \rReceiving objects:  69% (440/637)   \rReceiving objects:  70% (446/637)   \rReceiving objects:  71% (453/637)   \rReceiving objects:  72% (459/637)   \rReceiving objects:  73% (466/637)   \rReceiving objects:  74% (472/637)   \rReceiving objects:  75% (478/637)   \rReceiving objects:  76% (485/637)   \rReceiving objects:  77% (491/637)   \rReceiving objects:  78% (497/637)   \rReceiving objects:  79% (504/637)   \rReceiving objects:  80% (510/637)   \rReceiving objects:  81% (516/637)   \rReceiving objects:  82% (523/637)   \rReceiving objects:  83% (529/637)   \rReceiving objects:  84% (536/637)   \rReceiving objects:  85% (542/637)   \rReceiving objects:  86% (548/637)   \rReceiving objects:  87% (555/637)   \rReceiving objects:  88% (561/637)   \rReceiving objects:  89% (567/637)   \rReceiving objects:  90% (574/637)   \rReceiving objects:  91% (580/637)   \rReceiving objects:  92% (587/637)   \rReceiving objects:  93% (593/637)   \rReceiving objects:  94% (599/637)   \rReceiving objects:  95% (606/637)   \rReceiving objects:  96% (612/637)   \rReceiving objects:  97% (618/637)   \rReceiving objects:  98% (625/637)   \rReceiving objects:  99% (631/637)   \rReceiving objects: 100% (637/637)   \rReceiving objects: 100% (637/637), 998.08 KiB | 3.39 MiB/s, done.\n",
      "Resolving deltas:   0% (0/334)   \rResolving deltas:  10% (35/334)   \rResolving deltas:  13% (45/334)   \rResolving deltas:  15% (52/334)   \rResolving deltas:  16% (56/334)   \rResolving deltas:  19% (64/334)   \rResolving deltas:  20% (67/334)   \rResolving deltas:  23% (80/334)   \rResolving deltas:  25% (84/334)   \rResolving deltas:  26% (89/334)   \rResolving deltas:  36% (121/334)   \rResolving deltas:  37% (126/334)   \rResolving deltas:  38% (129/334)   \rResolving deltas:  39% (132/334)   \rResolving deltas:  40% (135/334)   \rResolving deltas:  47% (159/334)   \rResolving deltas:  49% (165/334)   \rResolving deltas:  50% (168/334)   \rResolving deltas:  58% (194/334)   \rResolving deltas:  59% (200/334)   \rResolving deltas:  60% (202/334)   \rResolving deltas:  64% (217/334)   \rResolving deltas:  67% (226/334)   \rResolving deltas:  68% (228/334)   \rResolving deltas:  79% (267/334)   \rResolving deltas:  80% (268/334)   \rResolving deltas:  81% (272/334)   \rResolving deltas:  83% (279/334)   \rResolving deltas:  84% (283/334)   \rResolving deltas:  87% (291/334)   \rResolving deltas:  94% (314/334)   \rResolving deltas:  95% (320/334)   \rResolving deltas:  96% (323/334)   \rResolving deltas:  97% (325/334)   \rResolving deltas:  98% (329/334)   \rResolving deltas:  99% (331/334)   \rResolving deltas: 100% (334/334)   \rResolving deltas: 100% (334/334), done.\n"
     ]
    }
   ],
   "source": [
    "!rm -r cl_grid_world\n",
    "!git clone https://github.com/LeroyChristopherDunn/CLGridWorld.git cl_grid_world"
   ]
  },
  {
   "cell_type": "markdown",
   "metadata": {
    "id": "uzRlmj4XLYo9",
    "colab_type": "text"
   },
   "source": [
    "## Build"
   ]
  },
  {
   "cell_type": "code",
   "execution_count": 10,
   "metadata": {
    "id": "wZgC4FLHOD_F",
    "colab_type": "code",
    "outputId": "61fb1e07-43a0-4398-da92-5fa0ae4cf94b",
    "colab": {
     "base_uri": "https://localhost:8080/",
     "height": 593.0
    }
   },
   "outputs": [
    {
     "name": "stdout",
     "output_type": "stream",
     "text": [
      "Processing ./cl_grid_world\n",
      "Requirement already satisfied: gym==0.12.1 in /usr/local/lib/python3.6/dist-packages (from gym-clgridworld==1.0.0) (0.12.1)\n",
      "Requirement already satisfied: numpy in /usr/local/lib/python3.6/dist-packages (from gym-clgridworld==1.0.0) (1.16.3)\n",
      "Requirement already satisfied: matplotlib in /usr/local/lib/python3.6/dist-packages (from gym-clgridworld==1.0.0) (3.0.3)\n",
      "Requirement already satisfied: requests>=2.0 in /usr/local/lib/python3.6/dist-packages (from gym==0.12.1->gym-clgridworld==1.0.0) (2.21.0)\n",
      "Requirement already satisfied: pyglet>=1.2.0 in /usr/local/lib/python3.6/dist-packages (from gym==0.12.1->gym-clgridworld==1.0.0) (1.3.2)\n",
      "Requirement already satisfied: scipy in /usr/local/lib/python3.6/dist-packages (from gym==0.12.1->gym-clgridworld==1.0.0) (1.2.1)\n",
      "Requirement already satisfied: six in /usr/local/lib/python3.6/dist-packages (from gym==0.12.1->gym-clgridworld==1.0.0) (1.12.0)\n",
      "Requirement already satisfied: python-dateutil>=2.1 in /usr/local/lib/python3.6/dist-packages (from matplotlib->gym-clgridworld==1.0.0) (2.5.3)\n",
      "Requirement already satisfied: kiwisolver>=1.0.1 in /usr/local/lib/python3.6/dist-packages (from matplotlib->gym-clgridworld==1.0.0) (1.1.0)\n",
      "Requirement already satisfied: cycler>=0.10 in /usr/local/lib/python3.6/dist-packages (from matplotlib->gym-clgridworld==1.0.0) (0.10.0)\n",
      "Requirement already satisfied: pyparsing!=2.0.4,!=2.1.2,!=2.1.6,>=2.0.1 in /usr/local/lib/python3.6/dist-packages (from matplotlib->gym-clgridworld==1.0.0) (2.4.0)\n",
      "Requirement already satisfied: certifi>=2017.4.17 in /usr/local/lib/python3.6/dist-packages (from requests>=2.0->gym==0.12.1->gym-clgridworld==1.0.0) (2019.3.9)\n",
      "Requirement already satisfied: urllib3<1.25,>=1.21.1 in /usr/local/lib/python3.6/dist-packages (from requests>=2.0->gym==0.12.1->gym-clgridworld==1.0.0) (1.24.3)\n",
      "Requirement already satisfied: chardet<3.1.0,>=3.0.2 in /usr/local/lib/python3.6/dist-packages (from requests>=2.0->gym==0.12.1->gym-clgridworld==1.0.0) (3.0.4)\n",
      "Requirement already satisfied: idna<2.9,>=2.5 in /usr/local/lib/python3.6/dist-packages (from requests>=2.0->gym==0.12.1->gym-clgridworld==1.0.0) (2.8)\n",
      "Requirement already satisfied: future in /usr/local/lib/python3.6/dist-packages (from pyglet>=1.2.0->gym==0.12.1->gym-clgridworld==1.0.0) (0.16.0)\n",
      "Requirement already satisfied: setuptools in /usr/local/lib/python3.6/dist-packages (from kiwisolver>=1.0.1->matplotlib->gym-clgridworld==1.0.0) (41.0.1)\n",
      "Building wheels for collected packages: gym-clgridworld\n",
      "  Building wheel for gym-clgridworld (setup.py) ... \u001b[?25l\u001b[?25hdone\n",
      "  Stored in directory: /tmp/pip-ephem-wheel-cache-zo649fcc/wheels/b7/29/46/9056cae569a3bef9ce81e0b6e7b681e05fba9a0ec386b98f63\n",
      "Successfully built gym-clgridworld\n",
      "Installing collected packages: gym-clgridworld\n",
      "  Found existing installation: gym-clgridworld 1.0.0\n",
      "    Uninstalling gym-clgridworld-1.0.0:\n",
      "      Successfully uninstalled gym-clgridworld-1.0.0\n",
      "Successfully installed gym-clgridworld-1.0.0\n"
     ]
    },
    {
     "data": {},
     "metadata": {
      "tags": []
     },
     "output_type": "display_data"
    }
   ],
   "source": [
    "!pip install /content/cl_grid_world"
   ]
  },
  {
   "cell_type": "markdown",
   "metadata": {
    "id": "6c6sr4bGTYbi",
    "colab_type": "text"
   },
   "source": [
    "# Demo"
   ]
  },
  {
   "cell_type": "markdown",
   "metadata": {
    "id": "_Ytiaf0MTOSh",
    "colab_type": "text"
   },
   "source": [
    "## Imports"
   ]
  },
  {
   "cell_type": "code",
   "execution_count": null,
   "metadata": {
    "id": "IqvskUBjL3u0",
    "colab_type": "code",
    "colab": {}
   },
   "outputs": [],
   "source": [
    "from cl_grid_world.clgridworld.grid_world_builder import InitialStateParams, GridWorldBuilder\n",
    "from cl_grid_world.clgridworld.wrapper.distance_observation_wrapper import DistanceObservationWrapper\n",
    "from cl_grid_world.clgridworld.wrapper.tuple_observation_wrapper import TupleObservationWrapper\n",
    "from cl_grid_world.example.agent_trainer import AgentTrainer\n",
    "from cl_grid_world.example.agents.policy import EpsGreedy\n",
    "from cl_grid_world.example.agents.q_learning_agent import QLearningAgent"
   ]
  },
  {
   "cell_type": "markdown",
   "metadata": {
    "id": "44jJqy0nT806",
    "colab_type": "text"
   },
   "source": [
    "## Environment"
   ]
  },
  {
   "cell_type": "code",
   "execution_count": 0,
   "metadata": {
    "id": "kt22B2C2OYcr",
    "colab_type": "code",
    "colab": {}
   },
   "outputs": [],
   "source": [
    "# target task spec as defined in Source Task Sequencing,,, Narvekar et al 2017\n",
    "params = InitialStateParams(shape=(10, 10), \n",
    "                            player=(1, 4), \n",
    "                            key=(7, 5), \n",
    "                            lock=(1, 1), \n",
    "                            pit_start=(4, 2),\n",
    "                            pit_end=(4, 7))\n",
    "env = GridWorldBuilder.create(params)\n",
    "\n",
    "# transform state space to localized, distance based states\n",
    "env = DistanceObservationWrapper(env)  \n",
    "\n",
    "# convert states to tuples to make hashable for q learning agent\n",
    "env = TupleObservationWrapper(env)  "
   ]
  },
  {
   "cell_type": "markdown",
   "metadata": {
    "id": "C9pcuXUVUZUE",
    "colab_type": "text"
   },
   "source": [
    "## Agent "
   ]
  },
  {
   "cell_type": "code",
   "execution_count": 0,
   "metadata": {
    "id": "SrbiKzjpUFuQ",
    "colab_type": "code",
    "colab": {}
   },
   "outputs": [],
   "source": [
    "seed = 0\n",
    "\n",
    "policy = EpsGreedy(0.1)\n",
    "# policy = EpsAnnealed(250)  # uncomment for annealed policy\n",
    "\n",
    "agent = QLearningAgent(env.action_space, policy, discount_factor=1, seed=seed)"
   ]
  },
  {
   "cell_type": "markdown",
   "metadata": {
    "id": "WyCX_HuHUisR",
    "colab_type": "text"
   },
   "source": [
    "## Training"
   ]
  },
  {
   "cell_type": "code",
   "execution_count": 14,
   "metadata": {
    "id": "xHu2BvgzUc3j",
    "colab_type": "code",
    "outputId": "f569d953-ad63-49e8-f744-145aaa8a4fdd",
    "colab": {
     "base_uri": "https://localhost:8080/",
     "height": 960.0
    }
   },
   "outputs": [
    {
     "name": "stdout",
     "output_type": "stream",
     "text": [
      "Environment initial state: \n",
      "[['-' '-' '-' '-' '-' '-' '-' '-' '-' '-']\n",
      " ['-' 'L' '-' '-' 'P' '-' '-' '-' '-' '-']\n",
      " ['-' '-' '-' '-' '-' '-' '-' '-' '-' '-']\n",
      " ['-' 'B' '-' '-' '-' '-' '-' '-' 'B' '-']\n",
      " ['-' '-' 'X' 'X' 'X' 'X' 'X' 'X' '-' '-']\n",
      " ['-' 'B' '-' '-' '-' '-' '-' '-' 'B' '-']\n",
      " ['-' '-' '-' '-' '-' '-' '-' '-' '-' '-']\n",
      " ['-' '-' '-' '-' '-' 'K' '-' '-' '-' '-']\n",
      " ['-' '-' '-' '-' '-' '-' '-' '-' '-' '-']\n",
      " ['-' '-' '-' '-' '-' '-' '-' '-' '-' '-']]\n",
      "has_key: false\n",
      "\n",
      "episode 0 avg reward: -2160.0 avg steps 197.0\n",
      "episode 200 avg reward: -3110.2 avg steps 330.915\n",
      "episode 400 avg reward: -2242.1 avg steps 284.38\n",
      "episode 600 avg reward: -1322.95 avg steps 219.0\n",
      "episode 800 avg reward: -555.6 avg steps 150.32\n",
      "episode 1000 avg reward: -50.85 avg steps 110.195\n",
      "episode 1200 avg reward: 380.25 avg steps 87.875\n",
      "episode 1400 avg reward: 753.55 avg steps 63.985\n",
      "episode 1600 avg reward: 968.45 avg steps 42.84\n",
      "episode 1800 avg reward: 1114.3 avg steps 36.295\n",
      "episode 2000 avg reward: 1193.5 avg steps 32.65\n",
      "episode 2200 avg reward: 1204.85 avg steps 31.515\n",
      "episode 2400 avg reward: 1203.95 avg steps 31.605\n",
      "episode 2600 avg reward: 1191.5 avg steps 31.395\n",
      "episode 2800 avg reward: 1206.15 avg steps 31.385\n",
      "episode 3000 avg reward: 1203.65 avg steps 31.635\n",
      "episode 3200 avg reward: 1203.8 avg steps 31.62\n",
      "episode 3400 avg reward: 1201.5 avg steps 31.25\n",
      "episode 3600 avg reward: 1202.35 avg steps 31.765\n",
      "episode 3800 avg reward: 1196.85 avg steps 31.115\n",
      "episode 4000 avg reward: 1205.3 avg steps 31.47\n",
      "episode 4200 avg reward: 1206.35 avg steps 31.365\n",
      "episode 4400 avg reward: 1197.5 avg steps 31.395\n",
      "episode 4600 avg reward: 1195.65 avg steps 31.58\n",
      "episode 4800 avg reward: 1206.25 avg steps 31.375\n"
     ]
    },
    {
     "data": {
      "image/png": "[encoded data removed]",
      "text/plain": [
       "<Figure size 432x288 with 1 Axes>"
      ]
     },
     "metadata": {
      "tags": []
     },
     "output_type": "display_data"
    },
    {
     "name": "stdout",
     "output_type": "stream",
     "text": [
      "time taken: 11.555775880813599 seconds\n"
     ]
    }
   ],
   "source": [
    "AgentTrainer(env, agent).train(seed, \n",
    "                               num_episodes=5000, \n",
    "                               max_steps_per_episode=10000, \n",
    "                               episode_log_interval=200)\n"
   ]
  },
  {
   "cell_type": "code",
   "execution_count": 0,
   "metadata": {
    "id": "QSeX2qQEVmkB",
    "colab_type": "code",
    "colab": {}
   },
   "outputs": [],
   "source": [
    ""
   ]
  }
 ],
 "metadata": {
  "colab": {
   "name": "CL Grid World",
   "version": "0.3.2",
   "provenance": [],
   "collapsed_sections": [],
   "toc_visible": true
  },
  "kernelspec": {
   "name": "python3",
   "display_name": "Python 3"
  }
 },
 "nbformat": 4,
 "nbformat_minor": 0
}
